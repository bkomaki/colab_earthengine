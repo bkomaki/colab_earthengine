{
  "nbformat": 4,
  "nbformat_minor": 0,
  "metadata": {
    "colab": {
      "name": "show map.ipynb",
      "private_outputs": true,
      "provenance": [],
      "authorship_tag": "ABX9TyOlLPOy47QE2Qrz/rpO3aHM",
      "include_colab_link": true
    },
    "kernelspec": {
      "name": "python3",
      "display_name": "Python 3"
    },
    "language_info": {
      "name": "python"
    }
  },
  "cells": [
    {
      "cell_type": "markdown",
      "metadata": {
        "id": "view-in-github",
        "colab_type": "text"
      },
      "source": [
        "<a href=\"https://colab.research.google.com/github/bkomaki/colab_earthengine/blob/main/show_map.ipynb\" target=\"_parent\"><img src=\"https://colab.research.google.com/assets/colab-badge.svg\" alt=\"Open In Colab\"/></a>"
      ]
    },
    {
      "cell_type": "code",
      "execution_count": null,
      "metadata": {
        "id": "Khc71v_QiCg5"
      },
      "outputs": [],
      "source": [
        "#نصب geemap با دستور \n",
        "!pip install geemap!\n"
      ]
    },
    {
      "cell_type": "code",
      "source": [
        "#فراخوانی افزونه جی مپ\n",
        "import geemap\n"
      ],
      "metadata": {
        "id": "2gu9YIOmiPI9"
      },
      "execution_count": null,
      "outputs": []
    },
    {
      "cell_type": "code",
      "source": [
        "#فراخوانی ارث انجین\n",
        "import ee\n",
        "ee.Authenticate()\n",
        "ee.Initialize()\n"
      ],
      "metadata": {
        "id": "d866iR9piPKz"
      },
      "execution_count": null,
      "outputs": []
    },
    {
      "cell_type": "code",
      "source": [
        "#SRTMفراخوانی مدل رقومی ارتفاعی\n",
        "image = ee.Image('USGS/SRTMGL1_003')\n"
      ],
      "metadata": {
        "id": "aF3_IevfiPZ_"
      },
      "execution_count": null,
      "outputs": []
    },
    {
      "cell_type": "code",
      "source": [
        "#تعریف موقعیت طول وعرض جغرافیایی قله دماوند\n",
        "xy = ee.Geometry.Point([52.1100, 35.9548])#35.9548° N, 52.1100\n"
      ],
      "metadata": {
        "id": "tQ4b9F2piPkI"
      },
      "execution_count": null,
      "outputs": []
    },
    {
      "cell_type": "code",
      "source": [
        "\n",
        "#نمونه برداری برحسب مختصات با تابع sample #\n",
        "elev = image.sample(xy, 30).first().get('elevation').getInfo()\n",
        "print( elev)"
      ],
      "metadata": {
        "id": "Q4mMYUBxijK0"
      },
      "execution_count": null,
      "outputs": []
    },
    {
      "cell_type": "code",
      "source": [
        "#تنظیم پارامترهای نمایش بصورت یک دیکشنری\n",
        "vis_params = {\n",
        "  'min': 0,\n",
        "  'max': 4000,\n",
        "  'palette': ['006633', 'E5FFCC', '662A00', 'D8D8D8', 'F5F5F5']}\n",
        "#تعریف یک  خروجی\n",
        "Map=geemap.Map()\n",
        "#افزودن لایه رستری  به ترتیب تصویر، تنظیمات  رنگ و دامنه پارامترها، نام انتخابی لایه ، درست بودن نمایش و میزان شفافیت\n",
        "Map.addLayer(image, vis_params, 'SRTM DEM', True, 0.5)\n",
        "#افزودن لایه برداری  به ترتیب لایه برداری، تنظیمات  رنگی پارامترها، نام انتخابی لایه ،\n",
        "\n",
        "Map.addLayer(xy, {'color': 'red'}, 'Mount Everest')\n",
        "\n",
        "# تنظیم مرکز نمایش (longitude, latitude)\n",
        "Map.centerObject(xy, 12)\n",
        "#نمایش نتیجه\n",
        "Map"
      ],
      "metadata": {
        "id": "ROjQgD31imln"
      },
      "execution_count": null,
      "outputs": []
    }
  ]
}