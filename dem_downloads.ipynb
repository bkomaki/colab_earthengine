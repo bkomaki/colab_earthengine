{
  "nbformat": 4,
  "nbformat_minor": 0,
  "metadata": {
    "colab": {
      "name": "dem downloads.ipynb",
      "private_outputs": true,
      "provenance": [],
      "collapsed_sections": [],
      "authorship_tag": "ABX9TyOsXWsyyQRlIwX1fNIhx1XP",
      "include_colab_link": true
    },
    "kernelspec": {
      "name": "python3",
      "display_name": "Python 3"
    },
    "language_info": {
      "name": "python"
    }
  },
  "cells": [
    {
      "cell_type": "markdown",
      "metadata": {
        "id": "view-in-github",
        "colab_type": "text"
      },
      "source": [
        "<a href=\"https://colab.research.google.com/github/bkomaki/colab_earthengine/blob/main/dem_downloads.ipynb\" target=\"_parent\"><img src=\"https://colab.research.google.com/assets/colab-badge.svg\" alt=\"Open In Colab\"/></a>"
      ]
    },
    {
      "cell_type": "code",
      "execution_count": null,
      "metadata": {
        "id": "D2pSPHmFX4mt"
      },
      "outputs": [],
      "source": [
        "!pip install geemap"
      ]
    },
    {
      "cell_type": "code",
      "source": [
        "import geemap\n",
        "import  ee\n",
        "ee.Authenticate()\n",
        "ee.Initialize()\n",
        "Map=geemap.Map()\n",
        "Map"
      ],
      "metadata": {
        "id": "AC-aJ65lYem6"
      },
      "execution_count": null,
      "outputs": []
    },
    {
      "cell_type": "code",
      "source": [
        "!pip install Geopandas "
      ],
      "metadata": {
        "id": "8j_pNMZKZMJ4"
      },
      "execution_count": null,
      "outputs": []
    },
    {
      "cell_type": "code",
      "source": [
        "aoi=geemap.shp_to_ee(\"/content/aoi.shp\")"
      ],
      "metadata": {
        "id": "o_r4JoB5Yufy"
      },
      "execution_count": null,
      "outputs": []
    },
    {
      "cell_type": "code",
      "source": [
        "Map=geemap.Map()\n",
        "Map.center_object(aoi,9)\n",
        "Map.addLayer(aoi)\n",
        "Map"
      ],
      "metadata": {
        "id": "CnLH0RNSZUIT"
      },
      "execution_count": null,
      "outputs": []
    },
    {
      "cell_type": "code",
      "source": [
        "dem = ee.ImageCollection('JAXA/ALOS/AW3D30/V3_2');\n",
        "elevation = dem.select('DSM').select(0).mosaic().clip(aoi);\n",
        "geemap.ee_export_image(elevation,\"dem.tif\", scale=30,region=aoi.geometry())"
      ],
      "metadata": {
        "id": "vVXA2xb3Z006"
      },
      "execution_count": null,
      "outputs": []
    }
  ]
}